{
 "cells": [
  {
   "cell_type": "markdown",
   "metadata": {},
   "source": [
    "Semantic Information in a Simple Food-Seeking Agent\n",
    "===="
   ]
  },
  {
   "cell_type": "code",
   "execution_count": 1,
   "metadata": {},
   "outputs": [
    {
     "name": "stderr",
     "output_type": "stream",
     "text": [
      "/usr/local/Cellar/python/3.6.5/Frameworks/Python.framework/Versions/3.6/lib/python3.6/importlib/_bootstrap.py:219: RuntimeWarning: numpy.dtype size changed, may indicate binary incompatibility. Expected 96, got 88\n",
      "  return f(*args, **kwds)\n"
     ]
    }
   ],
   "source": [
    "# Imports\n",
    "%matplotlib inline\n",
    "import matplotlib.pyplot as plt\n",
    "import seaborn as sns\n",
    "sns.set_context('talk')\n",
    "sns.set_style('white')\n",
    "import numpy as np\n",
    "import utils\n",
    "\n",
    "# Define parameters of model\n",
    "mode            = 'pos'   # 'pos' if the system should move towards food, 'neg' if it should move away from food\n",
    "\n",
    "timescale       = 5       # \\tau, the timescale of interst\n",
    "\n",
    "num_locations   = 5       # Number of food locations\n",
    "num_levels      = 5       # l_max -- maximum food level \n",
    "eat_radius      = 1       # How close the agent must approach the food before it can eat it\n",
    "food_disappear_rate = 0.1 # The rate at which food spontaneously disappears\n",
    "dead_entropy    = 100      # Internal entropy of the dead macrostate (when agent level = 0), in bits\n",
    "\n",
    "# The viability function\n",
    "def agent_negentropy(curp):\n",
    "    # curp is distribution over joint states\n",
    "    pX, _ = utils.get_marginals(curp, id2xy_id_dict)\n",
    "    deadprob = 0.\n",
    "    for ndx, p in enumerate(curp):\n",
    "        if id2state_dict[ndx][2] == 0:\n",
    "            deadprob += p\n",
    "    h = utils.entropy(pX, base=2) + deadprob*dead_entropy\n",
    "    return -h"
   ]
  },
  {
   "cell_type": "code",
   "execution_count": 2,
   "metadata": {},
   "outputs": [],
   "source": [
    "# Here we define parameters / free energy function that will determine system/environment dynamics\n",
    "\n",
    "agentlevel_fe  = 10                         # Free energy increase for each agent level\n",
    "food_fe        = num_levels*2*agentlevel_fe # Free energy in one unit of food\n",
    "dead_fe        = -np.log(2) * dead_entropy  # Free energy of death state (bits to nats)\n",
    "\n",
    "# Compute free energy of joint system/environment state\n",
    "def free_energy_joint(agentloc, agenttarget, agentlevel, foodloc):\n",
    "    r = agentlevel_fe * agentlevel\n",
    "    if agentlevel == 0   : r += dead_fe\n",
    "    if foodloc    != '-' : r += food_fe\n",
    "    return r"
   ]
  },
  {
   "cell_type": "code",
   "execution_count": 3,
   "metadata": {
    "scrolled": false
   },
   "outputs": [],
   "source": [
    "# Here we define state space of joint system\n",
    "\n",
    "state2id_dict  = {}       # Dictionary maps joint state tuples (agentloc, agenttarget, agentlevel, foodloc) to numeric id\n",
    "Xstate2id_dict = {}       # Dictionary maps X state tuples (agentloc, agenttarget, agentlevel) to numeric id\n",
    "Ystate2id_dict = {}       # Dictionary maps Y state foodloc to numeric id\n",
    "id2xy_id_dict  = {}       # Dictionary that maps joint state numeric idea to tuple ()\n",
    "\n",
    "# Setup state space dictionaries \n",
    "for agentloc in range(num_locations):\n",
    "    for agenttarget in list(range(num_locations)) + ['-']:\n",
    "        for agentlevel in range(num_levels):\n",
    "            for foodloc in list(range(num_locations)) + ['-']:\n",
    "                K = (agentloc, agenttarget, agentlevel, foodloc)\n",
    "                xK = (agentloc, agenttarget, agentlevel)\n",
    "                yK = foodloc\n",
    "                state2id_dict.setdefault(K, len(state2id_dict))\n",
    "                Xstate2id_dict.setdefault(xK, len(Xstate2id_dict))\n",
    "                Ystate2id_dict.setdefault(yK, len(Ystate2id_dict))\n",
    "                id2xy_id_dict[state2id_dict[K]] = (Xstate2id_dict[xK], Ystate2id_dict[yK])\n",
    "                \n",
    "# Dictionary that maps from numeric id to \n",
    "id2state_dict = utils.reverse_dict(state2id_dict)\n",
    "\n",
    "num_states = len(state2id_dict)"
   ]
  },
  {
   "cell_type": "code",
   "execution_count": 4,
   "metadata": {},
   "outputs": [],
   "source": [
    "# Create the dynamics, i.e., the stochastic transition matrix, m\n",
    "\n",
    "mxbase = np.zeros((num_states, num_states))\n",
    "\n",
    "def get_food_states(agentloc, agenttarget, agentlevel, foodloc):\n",
    "    if foodloc == '-':\n",
    "        return [((agentloc, agenttarget, agentlevel, foodloc),1),]\n",
    "    else:\n",
    "        return [((agentloc, agenttarget, agentlevel, foodloc), 1-food_disappear_rate),\n",
    "                ((agentloc, agenttarget, agentlevel, '-'), food_disappear_rate)\n",
    "               ]\n",
    "for jointstate, i in state2id_dict.items():\n",
    "    agentloc, agenttarget, agentlevel, foodloc = jointstate\n",
    "    is_dead     = agentlevel==0\n",
    "    eat_food    = np.abs(agentloc - foodloc) <= eat_radius if foodloc != '-' else False\n",
    "    food_avail  = foodloc != '-'\n",
    "    next_states = []\n",
    "    \n",
    "    base_update = get_food_states(agentloc, agenttarget, agentlevel-1, foodloc)\n",
    "    if not is_dead:\n",
    "        if eat_food:\n",
    "            next_states = [((agentloc,'-',num_levels - 1,'-'), 1),]\n",
    "        elif agenttarget == '-':\n",
    "            next_states = base_update\n",
    "        else:\n",
    "            if mode == 'pos':\n",
    "                direction_mult = 1.0\n",
    "            elif mode == 'neg':\n",
    "                direction_mult = -1.0\n",
    "            elif mode == 'neutral':\n",
    "                direction_mult = 0.0\n",
    "            else:\n",
    "                raise Exception()\n",
    "                \n",
    "            if agenttarget>agentloc:\n",
    "                next_loc = agentloc+direction_mult*1\n",
    "            elif agenttarget<agentloc:\n",
    "                next_loc = agentloc-direction_mult*1\n",
    "            else:\n",
    "                next_loc = agentloc\n",
    "                \n",
    "            if next_loc < 0:\n",
    "                next_loc = 0\n",
    "            elif next_loc > num_locations-1:\n",
    "                next_loc = num_locations-1\n",
    "                \n",
    "            next_states = get_food_states(next_loc, agenttarget, agentlevel-1, foodloc)\n",
    "            \n",
    "    else: \n",
    "        next_states = get_food_states(agentloc, agenttarget, agentlevel, foodloc)\n",
    "\n",
    "    for n, p in next_states:\n",
    "        ns = state2id_dict[n]\n",
    "        mxbase[i, ns] = p\n",
    "        # The following enforces LDB is obeyed for transitions between states. \n",
    "        mxbase[ns, i] = p*np.exp(-(free_energy_joint(*jointstate)-free_energy_joint(*n)))\n",
    "\n",
    "# Normalize the constructed matrix to be a valid transition matrix\n",
    "mx = utils.normalize_mx(mxbase)\n",
    "\n",
    "# Compute the transition matrix from t=0 to t=timescale\n",
    "timeevolvedmx = np.linalg.matrix_power(mx, timescale)"
   ]
  },
  {
   "cell_type": "code",
   "execution_count": 5,
   "metadata": {},
   "outputs": [],
   "source": [
    "# Define the initial distribution over joint states\n",
    "initp = np.zeros(num_states)\n",
    "agentinitloc = int(num_locations/2)\n",
    "# Uniform distribution over food locations\n",
    "for j in range(num_locations):\n",
    "    initp[state2id_dict[agentinitloc, j, num_levels - 1, j]] = 1.0\n",
    "initp/=initp.sum() # normalize to a valid probability distribution"
   ]
  },
  {
   "cell_type": "code",
   "execution_count": 6,
   "metadata": {},
   "outputs": [
    {
     "name": "stdout",
     "output_type": "stream",
     "text": [
      "Viability=-87.633, MI=0.000, Coarse-graining function=[[0, 1, 2, 3, 4, '-']] (1/32)\n",
      "Viability=-74.785, MI=0.722, Coarse-graining function=[[0], [1, 2, 3, 4, '-']] (2/32)\n",
      "Viability=-71.709, MI=0.971, Coarse-graining function=[[0, 1], [2, 3, 4, '-']] (3/32)\n",
      "Viability=-71.709, MI=0.971, Coarse-graining function=[[0, 1, 2], [3, 4, '-']] (4/32)\n",
      "Viability=-74.785, MI=0.722, Coarse-graining function=[[0, 1, 2, 3], [4, '-']] (5/32)\n",
      "Viability=-87.633, MI=0.000, Coarse-graining function=[[0, 1, 2, 3, 4], ['-']] (6/32)\n",
      "Viability=-71.689, MI=1.371, Coarse-graining function=[[0], [1], [2, 3, 4, '-']] (7/32)\n",
      "Viability=-65.545, MI=1.522, Coarse-graining function=[[0], [1, 2], [3, 4, '-']] (8/32)\n",
      "Viability=-65.525, MI=1.371, Coarse-graining function=[[0], [1, 2, 3], [4, '-']] (9/32)\n",
      "Viability=-74.785, MI=0.722, Coarse-graining function=[[0], [1, 2, 3, 4], ['-']] (10/32)\n",
      "Viability=-65.565, MI=1.522, Coarse-graining function=[[0, 1], [2], [3, 4, '-']] (11/32)\n",
      "Viability=-65.545, MI=1.522, Coarse-graining function=[[0, 1], [2, 3], [4, '-']] (12/32)\n",
      "Viability=-71.709, MI=0.971, Coarse-graining function=[[0, 1], [2, 3, 4], ['-']] (13/32)\n",
      "Viability=-71.689, MI=1.371, Coarse-graining function=[[0, 1, 2], [3], [4, '-']] (14/32)\n",
      "Viability=-71.709, MI=0.971, Coarse-graining function=[[0, 1, 2], [3, 4], ['-']] (15/32)\n",
      "Viability=-74.785, MI=0.722, Coarse-graining function=[[0, 1, 2, 3], [4], ['-']] (16/32)\n",
      "Viability=-65.545, MI=1.922, Coarse-graining function=[[0], [1], [2], [3, 4, '-']] (17/32)\n",
      "Viability=-65.525, MI=1.922, Coarse-graining function=[[0], [1], [2, 3], [4, '-']] (18/32)\n",
      "Viability=-71.689, MI=1.371, Coarse-graining function=[[0], [1], [2, 3, 4], ['-']] (19/32)\n",
      "Viability=-65.525, MI=1.922, Coarse-graining function=[[0], [1, 2], [3], [4, '-']] (20/32)\n",
      "Viability=-65.545, MI=1.522, Coarse-graining function=[[0], [1, 2], [3, 4], ['-']] (21/32)\n",
      "Viability=-65.525, MI=1.371, Coarse-graining function=[[0], [1, 2, 3], [4], ['-']] (22/32)\n",
      "Viability=-65.545, MI=1.922, Coarse-graining function=[[0, 1], [2], [3], [4, '-']] (23/32)\n",
      "Viability=-65.565, MI=1.522, Coarse-graining function=[[0, 1], [2], [3, 4], ['-']] (24/32)\n",
      "Viability=-65.545, MI=1.522, Coarse-graining function=[[0, 1], [2, 3], [4], ['-']] (25/32)\n",
      "Viability=-71.689, MI=1.371, Coarse-graining function=[[0, 1, 2], [3], [4], ['-']] (26/32)\n",
      "Viability=-65.525, MI=2.322, Coarse-graining function=[[0], [1], [2], [3], [4, '-']] (27/32)\n",
      "Viability=-65.545, MI=1.922, Coarse-graining function=[[0], [1], [2], [3, 4], ['-']] (28/32)\n",
      "Viability=-65.525, MI=1.922, Coarse-graining function=[[0], [1], [2, 3], [4], ['-']] (29/32)\n",
      "Viability=-65.525, MI=1.922, Coarse-graining function=[[0], [1, 2], [3], [4], ['-']] (30/32)\n",
      "Viability=-65.545, MI=1.922, Coarse-graining function=[[0, 1], [2], [3], [4], ['-']] (31/32)\n",
      "Viability=-65.525, MI=2.322, Coarse-graining function=[[0], [1], [2], [3], [4], ['-']] (32/32)\n"
     ]
    }
   ],
   "source": [
    "# Build viability/information curve\n",
    "interventions = utils.get_all_interventions(num_locations, initp, state2id_dict, id2xy_id_dict)\n",
    "info_curve = {}\n",
    "for intervention_ndx, (intervened_initp, cg_func) in enumerate(interventions):\n",
    "    cur_mi = utils.get_mi(intervened_initp, id2xy_id_dict)\n",
    "    viability = agent_negentropy(intervened_initp.dot(timeevolvedmx))\n",
    "    print('Viability=%0.3f, MI=%0.3f, Coarse-graining function=%s (%d/%d)' % \n",
    "          (viability, cur_mi, cg_func, intervention_ndx+1, len(interventions)))\n",
    "    if (cur_mi not in info_curve) or (viability > info_curve[cur_mi]):\n",
    "        info_curve[cur_mi] = viability"
   ]
  },
  {
   "cell_type": "code",
   "execution_count": 7,
   "metadata": {
    "scrolled": false
   },
   "outputs": [
    {
     "name": "stdout",
     "output_type": "stream",
     "text": [
      "Initial MI                     =   2.32 bits\n",
      "Amount of semantic information =   1.37 bits\n",
      "Value of information           =  22.11 bits\n",
      "Thermodynamic multiplier       =   9.52\n"
     ]
    },
    {
     "data": {
      "image/png": "[encoded data removed]",
      "text/plain": [
       "<Figure size 720x288 with 2 Axes>"
      ]
     },
     "metadata": {},
     "output_type": "display_data"
    }
   ],
   "source": [
    "# Plot results\n",
    "\n",
    "plt.figure(figsize=(10,4))\n",
    "plt.subplot(1,2,1)\n",
    "\n",
    "# Define the fully-intervened initial distribution over joint states\n",
    "pX, pY = utils.get_marginals(initp, id2xy_id_dict)\n",
    "initp_fullyintervened = np.zeros(num_states)\n",
    "for ndx in range(num_states):\n",
    "    x,y = id2xy_id_dict[ndx]\n",
    "    initp_fullyintervened[ndx] = pX[x]*pY[y]\n",
    "    \n",
    "# Show a time vs. viability plot for actual initial distribution and fully intervened initial distribution\n",
    "l1, l2 = utils.compare_runs(initp, mx, initp_fullyintervened, mx, viabilityfunc=agent_negentropy, iters=10)\n",
    "plt.ylabel('Viability')\n",
    "plt.xlabel('Time')\n",
    "plt.vlines(timescale, plt.ylim()[0], plt.ylim()[1], linestyle='--')\n",
    "value_of_information = l1[timescale] - l2[timescale]\n",
    "\n",
    "plt.subplot(1,2,2)\n",
    "    \n",
    "# Take pareto front of viability/information curve\n",
    "ks = np.array(list(map(lambda x: x[0], sorted(info_curve.items(), key=lambda x: (np.round(x[0],7),x[1])))))\n",
    "vs = np.array([info_curve[k] for k in ks])\n",
    "\n",
    "plt.plot(ks, vs, ':')\n",
    "plt.scatter(ks, vs, s=50, marker='x')\n",
    "\n",
    "plt.xlabel('$I(X_0;Y_0)$ (bits)')\n",
    "plt.ylabel('Viability')\n",
    "\n",
    "actual_mi = utils.get_mi(initp, id2xy_id_dict)\n",
    "total_si = np.min(ks[vs == vs[-1]])\n",
    "print(\"Initial MI                     = %6.2f bits\" % actual_mi)\n",
    "print(\"Amount of semantic information = %6.2f bits\" % total_si)\n",
    "print(\"Value of information           = %6.2f bits\" % value_of_information)\n",
    "print(\"Thermodynamic multiplier       = %6.2f\"      % (value_of_information/actual_mi))\n",
    "\n",
    "plt.ylim([-105,-60])\n",
    "plt.vlines(total_si, plt.ylim()[0], plt.ylim()[1], linestyle='--')\n",
    "\n",
    "plt.tight_layout()\n"
   ]
  },
  {
   "cell_type": "code",
   "execution_count": null,
   "metadata": {},
   "outputs": [],
   "source": []
  }
 ],
 "metadata": {
  "kernelspec": {
   "display_name": "Python 3",
   "language": "python",
   "name": "python3"
  },
  "language_info": {
   "codemirror_mode": {
    "name": "ipython",
    "version": 3
   },
   "file_extension": ".py",
   "mimetype": "text/x-python",
   "name": "python",
   "nbconvert_exporter": "python",
   "pygments_lexer": "ipython3",
   "version": "3.6.5"
  }
 },
 "nbformat": 4,
 "nbformat_minor": 1
}
